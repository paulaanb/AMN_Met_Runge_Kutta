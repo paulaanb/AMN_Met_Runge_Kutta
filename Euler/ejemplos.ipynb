{
 "cells": [
  {
   "cell_type": "code",
   "execution_count": 10,
   "metadata": {},
   "outputs": [
    {
     "ename": "ModuleNotFoundError",
     "evalue": "No module named 'matplotlib'",
     "output_type": "error",
     "traceback": [
      "\u001b[0;31m---------------------------------------------------------------------------\u001b[0m",
      "\u001b[0;31mModuleNotFoundError\u001b[0m                       Traceback (most recent call last)",
      "\u001b[0;32m/var/folders/q4/745nrf4575s3w8tmdjr0m5680000gn/T/ipykernel_22977/2108912058.py\u001b[0m in \u001b[0;36m<module>\u001b[0;34m\u001b[0m\n\u001b[1;32m      1\u001b[0m \u001b[0;31m# importaciones\u001b[0m\u001b[0;34m\u001b[0m\u001b[0;34m\u001b[0m\u001b[0m\n\u001b[1;32m      2\u001b[0m \u001b[0;32mfrom\u001b[0m \u001b[0mmetodo_euler\u001b[0m \u001b[0;32mimport\u001b[0m \u001b[0meuler\u001b[0m\u001b[0;34m\u001b[0m\u001b[0;34m\u001b[0m\u001b[0m\n\u001b[0;32m----> 3\u001b[0;31m \u001b[0;32mimport\u001b[0m \u001b[0mmatplotlib\u001b[0m\u001b[0;34m.\u001b[0m\u001b[0mpyplot\u001b[0m \u001b[0;32mas\u001b[0m \u001b[0mplt\u001b[0m\u001b[0;34m\u001b[0m\u001b[0;34m\u001b[0m\u001b[0m\n\u001b[0m\u001b[1;32m      4\u001b[0m \u001b[0;34m\u001b[0m\u001b[0m\n",
      "\u001b[0;31mModuleNotFoundError\u001b[0m: No module named 'matplotlib'"
     ]
    }
   ],
   "source": [
    "# importaciones\n",
    "from metodo_euler import euler\n",
    "import matplotlib.pyplot as plt\n",
    "\n"
   ]
  },
  {
   "cell_type": "markdown",
   "metadata": {},
   "source": [
    "## Ejemplo\n",
    "EDO a resolver: $3x^2y' - 4xy = 1$  \n",
    "Cond. inicial: $y(0.5) = -1$  \n",
    "Intervalo: $[0.5, 4]$"
   ]
  },
  {
   "cell_type": "code",
   "execution_count": null,
   "metadata": {},
   "outputs": [],
   "source": []
  },
  {
   "cell_type": "code",
   "execution_count": 11,
   "metadata": {},
   "outputs": [
    {
     "name": "stdout",
     "output_type": "stream",
     "text": [
      "Error en el último punto: 0.6693137794515565\n"
     ]
    }
   ],
   "source": [
    "def f1(x, y):\n",
    "    '''EDO a resolver: y'=f1(x,y)'''\n",
    "    return (1 + 4*x*y)/(3*x**2)\n",
    "\n",
    "# Parámetros iniciales\n",
    "x0 = 0.5  # condicion inicial para x\n",
    "y0 = -1  # condicion inicial para y\n",
    "xn = 4  # extremo superior del intervalo\n",
    "h = 0.1  # tamaño del paso\n",
    "\n",
    "def sol_analit_1(x):\n",
    "    '''Solución analítica conocida al problema'''\n",
    "    return -1.8*x**(4/3) - 1/(7*x)\n",
    "\n",
    "\n",
    "# Valores solución numérica con el método predictor-corrector\n",
    "x_num, y_num = euler(f1, x0, y0, xn, h)\n",
    "\n",
    "# Valores solución analítica (para los mismo valores de x)\n",
    "y_analit = [sol_analit_1(x) for x in x_num]\n",
    "\n",
    "\n",
    "# Calcular el error absoluto\n",
    "error_abs = [abs(y_n - y_a) for y_n, y_a in zip(y_num, y_analit)]\n",
    "print(\"Error en el último punto:\", error_abs[-1])\n"
   ]
  },
  {
   "cell_type": "code",
   "execution_count": 13,
   "metadata": {},
   "outputs": [
    {
     "ename": "NameError",
     "evalue": "name 'plt' is not defined",
     "output_type": "error",
     "traceback": [
      "\u001b[0;31m---------------------------------------------------------------------------\u001b[0m",
      "\u001b[0;31mNameError\u001b[0m                                 Traceback (most recent call last)",
      "\u001b[0;32m/var/folders/q4/745nrf4575s3w8tmdjr0m5680000gn/T/ipykernel_22977/3866246364.py\u001b[0m in \u001b[0;36m<module>\u001b[0;34m\u001b[0m\n\u001b[1;32m      1\u001b[0m \u001b[0;31m# Representar la solución numérica\u001b[0m\u001b[0;34m\u001b[0m\u001b[0;34m\u001b[0m\u001b[0m\n\u001b[0;32m----> 2\u001b[0;31m \u001b[0mplt\u001b[0m\u001b[0;34m.\u001b[0m\u001b[0mplot\u001b[0m\u001b[0;34m(\u001b[0m\u001b[0mx_num\u001b[0m\u001b[0;34m,\u001b[0m \u001b[0my_num\u001b[0m\u001b[0;34m,\u001b[0m \u001b[0mlabel\u001b[0m\u001b[0;34m=\u001b[0m\u001b[0;34m'Solución numérica'\u001b[0m\u001b[0;34m)\u001b[0m\u001b[0;34m\u001b[0m\u001b[0;34m\u001b[0m\u001b[0m\n\u001b[0m\u001b[1;32m      3\u001b[0m \u001b[0;34m\u001b[0m\u001b[0m\n\u001b[1;32m      4\u001b[0m \u001b[0;31m# Representar la solución exacta\u001b[0m\u001b[0;34m\u001b[0m\u001b[0;34m\u001b[0m\u001b[0m\n\u001b[1;32m      5\u001b[0m \u001b[0mplt\u001b[0m\u001b[0;34m.\u001b[0m\u001b[0mplot\u001b[0m\u001b[0;34m(\u001b[0m\u001b[0mx_num\u001b[0m\u001b[0;34m,\u001b[0m \u001b[0my_analit\u001b[0m\u001b[0;34m,\u001b[0m \u001b[0mlabel\u001b[0m\u001b[0;34m=\u001b[0m\u001b[0;34m'Solución analítica'\u001b[0m\u001b[0;34m)\u001b[0m\u001b[0;34m\u001b[0m\u001b[0;34m\u001b[0m\u001b[0m\n",
      "\u001b[0;31mNameError\u001b[0m: name 'plt' is not defined"
     ]
    }
   ],
   "source": [
    "# Representar la solución numérica\n",
    "plt.plot(x_num, y_num, label='Solución numérica')\n",
    "\n",
    "# Representar la solución exacta\n",
    "plt.plot(x_num, y_analit, label='Solución analítica')\n",
    "\n",
    "plt.xlabel('x')\n",
    "plt.ylabel('y')\n",
    "plt.axhline(0, color='black', linewidth=1) #Eje x\n",
    "plt.axvline(0, color='black', linewidth=1) #Eje y\n",
    "plt.title('Comparación Sol. Analítica vs Sol. Método Euler')\n",
    "plt.legend()\n",
    "plt.legend(loc='upper right')\n",
    "plt.grid(True)\n",
    "plt.show()\n"
   ]
  }
 ],
 "metadata": {
  "kernelspec": {
   "display_name": "metodos-numericos",
   "language": "python",
   "name": "python3"
  },
  "language_info": {
   "codemirror_mode": {
    "name": "ipython",
    "version": 3
   },
   "file_extension": ".py",
   "mimetype": "text/x-python",
   "name": "python",
   "nbconvert_exporter": "python",
   "pygments_lexer": "ipython3",
   "version": "3.10.7"
  }
 },
 "nbformat": 4,
 "nbformat_minor": 2
}
